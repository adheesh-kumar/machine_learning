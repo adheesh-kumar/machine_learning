{
  "cells": [
    {
      "cell_type": "code",
      "execution_count": 1,
      "metadata": {
        "colab": {
          "base_uri": "https://localhost:8080/",
          "height": 449
        },
        "id": "IRy2icDfWQ9L",
        "outputId": "e1b95c4f-6490-443f-8cc7-1f597bf911e0"
      },
      "outputs": [
        {
          "data": {
            "image/png": "[encoded data removed]",
            "text/plain": [
              "<Figure size 640x480 with 1 Axes>"
            ]
          },
          "metadata": {},
          "output_type": "display_data"
        }
      ],
      "source": [
        "import numpy as np\n",
        "from sklearn.mixture import GaussianMixture\n",
        "import matplotlib.pyplot as plt\n",
        "\n",
        "# Generate synthetic data for testing\n",
        "dataset = np.loadtxt('./gmm_dataset.csv', delimiter=',')\n",
        "\n",
        "# Number of components to try\n",
        "n_components_range = range(1, 11)\n",
        "\n",
        "# Fit models with different components\n",
        "models = [GaussianMixture(n, covariance_type='diag', random_state=42069, max_iter=500).fit(dataset) for n in n_components_range]\n",
        "\n",
        "#neg log like\n",
        "plotYAxis = [(-1 * model.score(dataset)) for model in models]\n",
        "\n",
        "plt.figure()\n",
        "plt.plot(n_components_range, plotYAxis)\n",
        "plt.xlabel(\"k\")\n",
        "plt.ylabel(\"avg neg log like\")\n",
        "plt.show()\n",
        "\n",
        "\n"
      ]
    },
    {
      "cell_type": "code",
      "execution_count": null,
      "metadata": {
        "colab": {
          "base_uri": "https://localhost:8080/"
        },
        "id": "c2zzOrFtwlyQ",
        "outputId": "e23f5129-556a-4e9b-8cb3-88e0eeab49d2"
      },
      "outputs": [],
      "source": [
        "chosen_k = 7\n",
        "\n",
        "model = models[chosen_k - 1]\n",
        "\n",
        "weights = model.weights_\n",
        "means = model.means_\n",
        "covar = model.covariances_.diagonal()\n",
        "\n",
        "ind = np.argsort(weights)\n",
        "weights = weights[ind]\n",
        "means = means[ind]\n",
        "covar = covar[ind]\n",
        "\n",
        "print(f\"Mixing Weight: {weights}\")\n",
        "print(f\"Mean Vector: {means}\")\n",
        "print(f\"Diagonal of Covariance Matrix: {covar}\")\n"
      ]
    },
    {
      "cell_type": "markdown",
      "metadata": {
        "id": "-PPERb2Hq8Hr"
      },
      "source": [
        "Time complexity is sklearns gmm.fit complexity. In the order of O(ndk^3).\n",
        "\n",
        "\n",
        "\n",
        "Choose: **k = 7**, because after 6 components, the data did not fit much better with the increase of a component. So I feel 6 or 7 is a good value for k as it lowers the number of components and maintains highest accuracy.\n",
        "\n",
        "\n",
        "\n",
        "\n",
        "---\n",
        "\n",
        "\n",
        "\n",
        "Mixing Weight: [0.09963714 0.09999841 0.13632428 0.13996228 0.16003862 0.16404145\n",
        "0.19999782]\n",
        "\n",
        "\n",
        "\n",
        "\n",
        "\n",
        "Mean Vector: [[ 1.68929215  0.40327977  0.99225136  2.35085432  1.88580664 -0.96234278\n",
        "   0.8856494  -0.19112984 -0.08578846  0.34060756  0.03534855  1.39639467\n",
        "   0.73757474  0.10971527  0.42392643  0.32850317  1.46423062 -0.2103343\n",
        "   0.29002674 -0.8467717 ]\n",
        " [-2.56304811  0.60297414  0.9073486  -0.70992468  2.30623868 -1.43950455\n",
        "   0.06350285 -0.18417546  1.51899014  1.4700994   0.13308299  0.40691059\n",
        "  -0.85397168 -1.97684461 -0.32116887  0.18215541  1.22248979  1.21355931\n",
        "  -0.44231748 -0.3195732 ]\n",
        " [-1.11304729  0.9183255   0.4183382  -0.52648805  1.49726455  1.93643739\n",
        "   1.08713103 -0.17231561 -1.03341639  1.09795125 -0.33181684  1.29712436\n",
        "   0.21235616  0.96817157  0.30825576  0.72630166 -0.0090716   1.77643101\n",
        "   0.08906354  0.29161937]\n",
        " [-0.65712372 -1.3146368  -0.86240292 -1.71904069  0.18987681 -0.31974112\n",
        "  -1.55664286  0.42633786 -0.94310583  0.07936145  0.78373154  0.08765006\n",
        "   1.17959912 -1.25474416  0.48764932 -0.71331486 -0.82522672 -0.58944347\n",
        "  -0.3350353   0.05299547]\n",
        " [-0.67038731  0.40255314 -0.81721656 -1.71640667  0.18854128 -0.41536877\n",
        "  -1.72129635  0.52647253 -0.94703938 -0.00701858  0.71802687  0.09512176\n",
        "   1.12159531 -1.17183068  0.39172532 -0.69342078 -0.95282409 -0.55412142\n",
        "  -0.3061994   0.05759537]\n",
        " [-1.18131535  0.94941053  0.5125065  -2.39445307  1.51623583  1.91615475\n",
        "   1.296197   -0.18649476 -1.07568893  1.08159079 -0.33265438  1.16756148\n",
        "   0.21132924  0.97484665  0.39110613  0.71917072  0.02681937  1.83143241\n",
        "   0.09509687  0.48962134]\n",
        " [-1.04355061 -1.39364161 -1.70804337  1.91672509 -0.54122952 -0.44188947\n",
        "  -1.27505932  0.76667667 -1.57565581 -0.22052918 -0.89479387  0.38804281\n",
        "  -0.53755216 -1.16554304 -0.04041252  0.44094584  0.04643439  0.30260094\n",
        "  -0.65284335 -0.34928293]]\n",
        "\n",
        "\n",
        "\n",
        "\n",
        "\n",
        "Diagonal of Covariance Matrix: [1.7215047  0.4073267  1.36902361 0.08746832 1.03712914 1.59087283\n",
        " 2.49076425]\n"
      ]
    },
    {
      "cell_type": "code",
      "execution_count": 3,
      "metadata": {
        "colab": {
          "base_uri": "https://localhost:8080/"
        },
        "id": "rBnzgidr_3Qs",
        "outputId": "2d91c124-d794-4527-e6fb-63abdebc5718"
      },
      "outputs": [
        {
          "name": "stderr",
          "output_type": "stream",
          "text": [
            "/usr/local/lib/python3.10/dist-packages/sklearn/datasets/_openml.py:968: FutureWarning: The default value of `parser` will change from `'liac-arff'` to `'auto'` in 1.4. You can set `parser='auto'` to silence this warning. Therefore, an `ImportError` will be raised from 1.4 if the dataset is dense and pandas is not installed. Note that the pandas parser may return different data types. See the Notes Section in fetch_openml's API doc for details.\n",
            "  warn(\n"
          ]
        }
      ],
      "source": [
        "#PART B)\n",
        "\n",
        "import numpy as np\n",
        "from sklearn.mixture import GaussianMixture\n",
        "from sklearn.datasets import fetch_openml\n",
        "from sklearn.model_selection import train_test_split\n",
        "from sklearn.metrics import mean_squared_error\n",
        "\n",
        "# Load MNIST dataset\n",
        "mnist = fetch_openml('mnist_784', as_frame=False)\n",
        "X, y = mnist.data.astype('float64'), mnist.target.astype('int')\n",
        "\n"
      ]
    },
    {
      "cell_type": "code",
      "execution_count": 5,
      "metadata": {
        "colab": {
          "base_uri": "https://localhost:8080/"
        },
        "id": "Jtt0H2pmDv1d",
        "outputId": "edd830cb-a4ad-439d-c2d6-6661539433b1"
      },
      "outputs": [
        {
          "name": "stdout",
          "output_type": "stream",
          "text": [
            "Error: 4.52\n"
          ]
        }
      ],
      "source": [
        "# Split the data into training and testing sets\n",
        "X_train, X_test, y_train, y_test = train_test_split(X, y, test_size=0.2, random_state=42069)\n",
        "\n",
        "\n",
        "\n",
        "# Number of components for each class\n",
        "n_components_per_class = 5\n",
        "\n",
        "# Initialize GMM models for each class\n",
        "gmm_models = []\n",
        "\n",
        "for digit in range(10):\n",
        "    # Select only the training data for the current digit\n",
        "    digit_indices = np.where(y_train == digit)\n",
        "    digit_data = X_train[digit_indices]\n",
        "\n",
        "    # Fit GMM for the current digit\n",
        "    gmm = GaussianMixture(n_components=n_components_per_class, max_iter= 500, covariance_type='diag', random_state=42069)\n",
        "    gmm.fit(digit_data)\n",
        "\n",
        "    # Append the trained model to the list\n",
        "    gmm_models.append(gmm)\n",
        "\n",
        "# Predict labels for the test set\n",
        "y_pred = []\n",
        "\n",
        "for sample in X_test:\n",
        "    likelihoods = [gmm.score_samples(sample.reshape(1, -1))[0] for gmm in gmm_models]\n",
        "    predicted_digit = np.argmax(likelihoods)\n",
        "    y_pred.append(predicted_digit)\n",
        "\n",
        "# Evaluate accuracy\n",
        "error = mean_squared_error(y_test, y_pred)\n",
        "print(f\"Error: {error:.2f}\")\n"
      ]
    },
    {
      "cell_type": "markdown",
      "metadata": {
        "id": "KRjo7w4KOqrD"
      },
      "source": [
        "\n",
        "Error rate - using Mean Squared Error: 4.52"
      ]
    }
  ],
  "metadata": {
    "colab": {
      "provenance": []
    },
    "kernelspec": {
      "display_name": "Python 3",
      "name": "python3"
    },
    "language_info": {
      "name": "python"
    }
  },
  "nbformat": 4,
  "nbformat_minor": 0
}
